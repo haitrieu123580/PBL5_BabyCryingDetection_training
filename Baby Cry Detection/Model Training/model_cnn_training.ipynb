{
 "cells": [
  {
   "cell_type": "code",
   "execution_count": 64,
   "metadata": {},
   "outputs": [],
   "source": [
    "import numpy as np\n",
    "from os.path import isfile,join\n",
    "from os import listdir\n",
    "from scipy import signal as sg\n",
    "from scipy.signal import butter,lfilter,freqz\n",
    "import matplotlib.pyplot as plt\n",
    "from scipy import hamming\n",
    "import soundfile as sf\n",
    "import scipy\n",
    "import numpy\n",
    "from scipy.fftpack import dct\n",
    "from python_speech_features import mfcc\n",
    "from python_speech_features import logfbank\n",
    "from scipy.fftpack import fft\n",
    "from scipy.io import wavfile\n",
    "import soundfile as sf\n",
    "import math\n",
    "import tensorflow\n",
    "from keras.utils import np_utils\n",
    "from keras.models import Sequential\n",
    "from keras.models import model_from_yaml\n",
    "from keras.models import model_from_json\n",
    "from keras.layers import Dense\n",
    "\n",
    "from keras import backend\n",
    "from keras.layers import Embedding\n",
    "from keras.layers import LSTM\n",
    "from sklearn.model_selection import train_test_split\n",
    "from sklearn.decomposition import PCA"
   ]
  },
  {
   "cell_type": "code",
   "execution_count": 65,
   "metadata": {},
   "outputs": [],
   "source": [
    "babycry=[f for f in listdir(\"D:/PBL5/Data/301 - Crying baby\") if isfile(join(\"D:/PBL5/Data/301 - Crying baby\", f))]\n",
    "\n",
    "nonbabycry=[f for f in listdir(\"D:/PBL5/Data/902 - Noise\") if isfile(join(\"D:/PBL5/Data/902 - Noise\", f))]\n",
    "babysilence=[f for f in listdir('D:/PBL5/Data/901 - Silence') if isfile(join('D:/PBL5/Data/901 - Silence', f))]\n",
    "babylaugh=[f for f in listdir('D:/PBL5/Data/903 - Baby laugh') if isfile(join('D:/PBL5/Data/903 - Baby laugh',f))]"
   ]
  },
  {
   "cell_type": "code",
   "execution_count": 66,
   "metadata": {},
   "outputs": [],
   "source": [
    "baby_cry=[]\n",
    "for each in range(0,len(babycry)) :\n",
    "    cry='D:/PBL5/Data/301 - Crying baby' + '/' + babycry[each] \n",
    "    baby_cry.append(cry)"
   ]
  },
  {
   "cell_type": "code",
   "execution_count": 67,
   "metadata": {},
   "outputs": [],
   "source": [
    "non_babycry=[]\n",
    "for each in range(0,len(nonbabycry)) :\n",
    "    x='D:/PBL5/Data/902 - Noise' + '/' + nonbabycry[each] \n",
    "    non_babycry.append(x)"
   ]
  },
  {
   "cell_type": "code",
   "execution_count": 68,
   "metadata": {},
   "outputs": [],
   "source": [
    "baby_silence=[]\n",
    "for each in range(0,len(babysilence)) :\n",
    "    silence='D:/PBL5/Data/901 - Silence' + '/' + babysilence[each] \n",
    "    baby_silence.append(silence)"
   ]
  },
  {
   "cell_type": "code",
   "execution_count": 69,
   "metadata": {},
   "outputs": [],
   "source": [
    "baby_laugh=[]\n",
    "for each in range(0,len(babylaugh)) :\n",
    "    laugh='D:/PBL5/Data/903 - Baby laugh' + '/' + babylaugh[each] \n",
    "    baby_laugh.append(laugh)\n",
    "  \n",
    "nonbaby_cry=baby_silence+baby_laugh+non_babycry"
   ]
  },
  {
   "cell_type": "code",
   "execution_count": 70,
   "metadata": {},
   "outputs": [
    {
     "data": {
      "text/plain": [
       "108"
      ]
     },
     "execution_count": 70,
     "metadata": {},
     "output_type": "execute_result"
    }
   ],
   "source": [
    "len(baby_cry)"
   ]
  },
  {
   "cell_type": "code",
   "execution_count": 71,
   "metadata": {},
   "outputs": [],
   "source": [
    "def butter_lowpass(cutoff,fs,order=5):\n",
    "    nyq=0.5*fs\n",
    "    normal_cutoff=cutoff/nyq\n",
    "    b,a=butter(order,normal_cutoff,btype='low',analog=False)\n",
    "    return b,a"
   ]
  },
  {
   "cell_type": "code",
   "execution_count": 72,
   "metadata": {},
   "outputs": [],
   "source": [
    "\n",
    "def butter_lowpass_filter(data,cutoff,fs,order=5):\n",
    "    b,a=butter_lowpass(cutoff,fs,order=order)\n",
    "    y=lfilter(b,a,data)\n",
    "    return y"
   ]
  },
  {
   "cell_type": "code",
   "execution_count": 73,
   "metadata": {},
   "outputs": [],
   "source": [
    "def feature(soundfile):\n",
    "    s,r=sf.read(soundfile)\n",
    "    x=np.array_split(s,32)\n",
    "    \n",
    "    logg=[]\n",
    "    for i in x:\n",
    "             \n",
    "             xx=np.mean(logfbank(i,r,nfilt=40,nfft=1103),axis=0)\n",
    "             logg.append(xx)\n",
    "        \n",
    "    return  logg  "
   ]
  },
  {
   "cell_type": "code",
   "execution_count": 74,
   "metadata": {},
   "outputs": [],
   "source": [
    "r=feature(baby_cry[10])"
   ]
  },
  {
   "cell_type": "code",
   "execution_count": 80,
   "metadata": {},
   "outputs": [
    {
     "ename": "LibsndfileError",
     "evalue": "Error opening 'D:\\\\PBL5\\\\Data\\\\301 - Crying baby\\\\TrieuPhone.m4a': Format not recognised.",
     "output_type": "error",
     "traceback": [
      "\u001b[1;31m---------------------------------------------------------------------------\u001b[0m",
      "\u001b[1;31mLibsndfileError\u001b[0m                           Traceback (most recent call last)",
      "Cell \u001b[1;32mIn[80], line 1\u001b[0m\n\u001b[1;32m----> 1\u001b[0m sf\u001b[39m.\u001b[39;49mread(\u001b[39m\"\u001b[39;49m\u001b[39mD:\u001b[39;49m\u001b[39m\\\\\u001b[39;49;00m\u001b[39mPBL5\u001b[39;49m\u001b[39m\\\\\u001b[39;49;00m\u001b[39mData\u001b[39;49m\u001b[39m\\\\\u001b[39;49;00m\u001b[39m301 - Crying baby\u001b[39;49m\u001b[39m\\\\\u001b[39;49;00m\u001b[39mTrieuPhone.m4a\u001b[39;49m\u001b[39m\"\u001b[39;49m)\n",
      "File \u001b[1;32m~\\AppData\\Roaming\\Python\\Python310\\site-packages\\soundfile.py:285\u001b[0m, in \u001b[0;36mread\u001b[1;34m(file, frames, start, stop, dtype, always_2d, fill_value, out, samplerate, channels, format, subtype, endian, closefd)\u001b[0m\n\u001b[0;32m    199\u001b[0m \u001b[39mdef\u001b[39;00m \u001b[39mread\u001b[39m(file, frames\u001b[39m=\u001b[39m\u001b[39m-\u001b[39m\u001b[39m1\u001b[39m, start\u001b[39m=\u001b[39m\u001b[39m0\u001b[39m, stop\u001b[39m=\u001b[39m\u001b[39mNone\u001b[39;00m, dtype\u001b[39m=\u001b[39m\u001b[39m'\u001b[39m\u001b[39mfloat64\u001b[39m\u001b[39m'\u001b[39m, always_2d\u001b[39m=\u001b[39m\u001b[39mFalse\u001b[39;00m,\n\u001b[0;32m    200\u001b[0m          fill_value\u001b[39m=\u001b[39m\u001b[39mNone\u001b[39;00m, out\u001b[39m=\u001b[39m\u001b[39mNone\u001b[39;00m, samplerate\u001b[39m=\u001b[39m\u001b[39mNone\u001b[39;00m, channels\u001b[39m=\u001b[39m\u001b[39mNone\u001b[39;00m,\n\u001b[0;32m    201\u001b[0m          \u001b[39mformat\u001b[39m\u001b[39m=\u001b[39m\u001b[39mNone\u001b[39;00m, subtype\u001b[39m=\u001b[39m\u001b[39mNone\u001b[39;00m, endian\u001b[39m=\u001b[39m\u001b[39mNone\u001b[39;00m, closefd\u001b[39m=\u001b[39m\u001b[39mTrue\u001b[39;00m):\n\u001b[0;32m    202\u001b[0m \u001b[39m    \u001b[39m\u001b[39m\"\"\"Provide audio data from a sound file as NumPy array.\u001b[39;00m\n\u001b[0;32m    203\u001b[0m \n\u001b[0;32m    204\u001b[0m \u001b[39m    By default, the whole file is read from the beginning, but the\u001b[39;00m\n\u001b[1;32m   (...)\u001b[0m\n\u001b[0;32m    283\u001b[0m \n\u001b[0;32m    284\u001b[0m \u001b[39m    \"\"\"\u001b[39;00m\n\u001b[1;32m--> 285\u001b[0m     \u001b[39mwith\u001b[39;00m SoundFile(file, \u001b[39m'\u001b[39;49m\u001b[39mr\u001b[39;49m\u001b[39m'\u001b[39;49m, samplerate, channels,\n\u001b[0;32m    286\u001b[0m                    subtype, endian, \u001b[39mformat\u001b[39;49m, closefd) \u001b[39mas\u001b[39;00m f:\n\u001b[0;32m    287\u001b[0m         frames \u001b[39m=\u001b[39m f\u001b[39m.\u001b[39m_prepare_read(start, stop, frames)\n\u001b[0;32m    288\u001b[0m         data \u001b[39m=\u001b[39m f\u001b[39m.\u001b[39mread(frames, dtype, always_2d, fill_value, out)\n",
      "File \u001b[1;32m~\\AppData\\Roaming\\Python\\Python310\\site-packages\\soundfile.py:658\u001b[0m, in \u001b[0;36mSoundFile.__init__\u001b[1;34m(self, file, mode, samplerate, channels, subtype, endian, format, closefd)\u001b[0m\n\u001b[0;32m    655\u001b[0m \u001b[39mself\u001b[39m\u001b[39m.\u001b[39m_mode \u001b[39m=\u001b[39m mode\n\u001b[0;32m    656\u001b[0m \u001b[39mself\u001b[39m\u001b[39m.\u001b[39m_info \u001b[39m=\u001b[39m _create_info_struct(file, mode, samplerate, channels,\n\u001b[0;32m    657\u001b[0m                                  \u001b[39mformat\u001b[39m, subtype, endian)\n\u001b[1;32m--> 658\u001b[0m \u001b[39mself\u001b[39m\u001b[39m.\u001b[39m_file \u001b[39m=\u001b[39m \u001b[39mself\u001b[39;49m\u001b[39m.\u001b[39;49m_open(file, mode_int, closefd)\n\u001b[0;32m    659\u001b[0m \u001b[39mif\u001b[39;00m \u001b[39mset\u001b[39m(mode)\u001b[39m.\u001b[39missuperset(\u001b[39m'\u001b[39m\u001b[39mr+\u001b[39m\u001b[39m'\u001b[39m) \u001b[39mand\u001b[39;00m \u001b[39mself\u001b[39m\u001b[39m.\u001b[39mseekable():\n\u001b[0;32m    660\u001b[0m     \u001b[39m# Move write position to 0 (like in Python file objects)\u001b[39;00m\n\u001b[0;32m    661\u001b[0m     \u001b[39mself\u001b[39m\u001b[39m.\u001b[39mseek(\u001b[39m0\u001b[39m)\n",
      "File \u001b[1;32m~\\AppData\\Roaming\\Python\\Python310\\site-packages\\soundfile.py:1216\u001b[0m, in \u001b[0;36mSoundFile._open\u001b[1;34m(self, file, mode_int, closefd)\u001b[0m\n\u001b[0;32m   1213\u001b[0m \u001b[39mif\u001b[39;00m file_ptr \u001b[39m==\u001b[39m _ffi\u001b[39m.\u001b[39mNULL:\n\u001b[0;32m   1214\u001b[0m     \u001b[39m# get the actual error code\u001b[39;00m\n\u001b[0;32m   1215\u001b[0m     err \u001b[39m=\u001b[39m _snd\u001b[39m.\u001b[39msf_error(file_ptr)\n\u001b[1;32m-> 1216\u001b[0m     \u001b[39mraise\u001b[39;00m LibsndfileError(err, prefix\u001b[39m=\u001b[39m\u001b[39m\"\u001b[39m\u001b[39mError opening \u001b[39m\u001b[39m{0!r}\u001b[39;00m\u001b[39m: \u001b[39m\u001b[39m\"\u001b[39m\u001b[39m.\u001b[39mformat(\u001b[39mself\u001b[39m\u001b[39m.\u001b[39mname))\n\u001b[0;32m   1217\u001b[0m \u001b[39mif\u001b[39;00m mode_int \u001b[39m==\u001b[39m _snd\u001b[39m.\u001b[39mSFM_WRITE:\n\u001b[0;32m   1218\u001b[0m     \u001b[39m# Due to a bug in libsndfile version <= 1.0.25, frames != 0\u001b[39;00m\n\u001b[0;32m   1219\u001b[0m     \u001b[39m# when opening a named pipe in SFM_WRITE mode.\u001b[39;00m\n\u001b[0;32m   1220\u001b[0m     \u001b[39m# See http://github.com/erikd/libsndfile/issues/77.\u001b[39;00m\n\u001b[0;32m   1221\u001b[0m     \u001b[39mself\u001b[39m\u001b[39m.\u001b[39m_info\u001b[39m.\u001b[39mframes \u001b[39m=\u001b[39m \u001b[39m0\u001b[39m\n",
      "\u001b[1;31mLibsndfileError\u001b[0m: Error opening 'D:\\\\PBL5\\\\Data\\\\301 - Crying baby\\\\TrieuPhone.m4a': Format not recognised."
     ]
    }
   ],
   "source": [
    "sf.read(\"D:\\\\PBL5\\\\Data\\\\301 - Crying baby\\\\TrieuPhone.m4a\")"
   ]
  },
  {
   "cell_type": "code",
   "execution_count": 75,
   "metadata": {},
   "outputs": [
    {
     "ename": "LibsndfileError",
     "evalue": "Error opening '1-100032-A.ogg': System error.",
     "output_type": "error",
     "traceback": [
      "\u001b[1;31m---------------------------------------------------------------------------\u001b[0m",
      "\u001b[1;31mLibsndfileError\u001b[0m                           Traceback (most recent call last)",
      "Cell \u001b[1;32mIn[75], line 13\u001b[0m\n\u001b[0;32m     10\u001b[0m \u001b[39mall\u001b[39m\u001b[39m=\u001b[39mbaby_cry\u001b[39m+\u001b[39mnonbabycry\n\u001b[0;32m     11\u001b[0m \u001b[39mfor\u001b[39;00m i \u001b[39min\u001b[39;00m \u001b[39mrange\u001b[39m(\u001b[39mlen\u001b[39m(baby_cry)\u001b[39m-\u001b[39m\u001b[39m1\u001b[39m,\u001b[39mlen\u001b[39m(\u001b[39mall\u001b[39m)\u001b[39m-\u001b[39m\u001b[39m1\u001b[39m):\n\u001b[0;32m     12\u001b[0m        \u001b[39m#r=list(r)\u001b[39;00m\n\u001b[1;32m---> 13\u001b[0m        r\u001b[39m=\u001b[39mfeature(\u001b[39mall\u001b[39;49m[i])\n\u001b[0;32m     15\u001b[0m        data[i,:,:]\u001b[39m=\u001b[39mr\n\u001b[0;32m     16\u001b[0m        output\u001b[39m.\u001b[39mappend(\u001b[39m0\u001b[39m)\n",
      "Cell \u001b[1;32mIn[73], line 2\u001b[0m, in \u001b[0;36mfeature\u001b[1;34m(soundfile)\u001b[0m\n\u001b[0;32m      1\u001b[0m \u001b[39mdef\u001b[39;00m \u001b[39mfeature\u001b[39m(soundfile):\n\u001b[1;32m----> 2\u001b[0m     s,r\u001b[39m=\u001b[39msf\u001b[39m.\u001b[39;49mread(soundfile)\n\u001b[0;32m      3\u001b[0m     x\u001b[39m=\u001b[39mnp\u001b[39m.\u001b[39marray_split(s,\u001b[39m32\u001b[39m)\n\u001b[0;32m      5\u001b[0m     logg\u001b[39m=\u001b[39m[]\n",
      "File \u001b[1;32m~\\AppData\\Roaming\\Python\\Python310\\site-packages\\soundfile.py:285\u001b[0m, in \u001b[0;36mread\u001b[1;34m(file, frames, start, stop, dtype, always_2d, fill_value, out, samplerate, channels, format, subtype, endian, closefd)\u001b[0m\n\u001b[0;32m    199\u001b[0m \u001b[39mdef\u001b[39;00m \u001b[39mread\u001b[39m(file, frames\u001b[39m=\u001b[39m\u001b[39m-\u001b[39m\u001b[39m1\u001b[39m, start\u001b[39m=\u001b[39m\u001b[39m0\u001b[39m, stop\u001b[39m=\u001b[39m\u001b[39mNone\u001b[39;00m, dtype\u001b[39m=\u001b[39m\u001b[39m'\u001b[39m\u001b[39mfloat64\u001b[39m\u001b[39m'\u001b[39m, always_2d\u001b[39m=\u001b[39m\u001b[39mFalse\u001b[39;00m,\n\u001b[0;32m    200\u001b[0m          fill_value\u001b[39m=\u001b[39m\u001b[39mNone\u001b[39;00m, out\u001b[39m=\u001b[39m\u001b[39mNone\u001b[39;00m, samplerate\u001b[39m=\u001b[39m\u001b[39mNone\u001b[39;00m, channels\u001b[39m=\u001b[39m\u001b[39mNone\u001b[39;00m,\n\u001b[0;32m    201\u001b[0m          \u001b[39mformat\u001b[39m\u001b[39m=\u001b[39m\u001b[39mNone\u001b[39;00m, subtype\u001b[39m=\u001b[39m\u001b[39mNone\u001b[39;00m, endian\u001b[39m=\u001b[39m\u001b[39mNone\u001b[39;00m, closefd\u001b[39m=\u001b[39m\u001b[39mTrue\u001b[39;00m):\n\u001b[0;32m    202\u001b[0m \u001b[39m    \u001b[39m\u001b[39m\"\"\"Provide audio data from a sound file as NumPy array.\u001b[39;00m\n\u001b[0;32m    203\u001b[0m \n\u001b[0;32m    204\u001b[0m \u001b[39m    By default, the whole file is read from the beginning, but the\u001b[39;00m\n\u001b[1;32m   (...)\u001b[0m\n\u001b[0;32m    283\u001b[0m \n\u001b[0;32m    284\u001b[0m \u001b[39m    \"\"\"\u001b[39;00m\n\u001b[1;32m--> 285\u001b[0m     \u001b[39mwith\u001b[39;00m SoundFile(file, \u001b[39m'\u001b[39;49m\u001b[39mr\u001b[39;49m\u001b[39m'\u001b[39;49m, samplerate, channels,\n\u001b[0;32m    286\u001b[0m                    subtype, endian, \u001b[39mformat\u001b[39;49m, closefd) \u001b[39mas\u001b[39;00m f:\n\u001b[0;32m    287\u001b[0m         frames \u001b[39m=\u001b[39m f\u001b[39m.\u001b[39m_prepare_read(start, stop, frames)\n\u001b[0;32m    288\u001b[0m         data \u001b[39m=\u001b[39m f\u001b[39m.\u001b[39mread(frames, dtype, always_2d, fill_value, out)\n",
      "File \u001b[1;32m~\\AppData\\Roaming\\Python\\Python310\\site-packages\\soundfile.py:658\u001b[0m, in \u001b[0;36mSoundFile.__init__\u001b[1;34m(self, file, mode, samplerate, channels, subtype, endian, format, closefd)\u001b[0m\n\u001b[0;32m    655\u001b[0m \u001b[39mself\u001b[39m\u001b[39m.\u001b[39m_mode \u001b[39m=\u001b[39m mode\n\u001b[0;32m    656\u001b[0m \u001b[39mself\u001b[39m\u001b[39m.\u001b[39m_info \u001b[39m=\u001b[39m _create_info_struct(file, mode, samplerate, channels,\n\u001b[0;32m    657\u001b[0m                                  \u001b[39mformat\u001b[39m, subtype, endian)\n\u001b[1;32m--> 658\u001b[0m \u001b[39mself\u001b[39m\u001b[39m.\u001b[39m_file \u001b[39m=\u001b[39m \u001b[39mself\u001b[39;49m\u001b[39m.\u001b[39;49m_open(file, mode_int, closefd)\n\u001b[0;32m    659\u001b[0m \u001b[39mif\u001b[39;00m \u001b[39mset\u001b[39m(mode)\u001b[39m.\u001b[39missuperset(\u001b[39m'\u001b[39m\u001b[39mr+\u001b[39m\u001b[39m'\u001b[39m) \u001b[39mand\u001b[39;00m \u001b[39mself\u001b[39m\u001b[39m.\u001b[39mseekable():\n\u001b[0;32m    660\u001b[0m     \u001b[39m# Move write position to 0 (like in Python file objects)\u001b[39;00m\n\u001b[0;32m    661\u001b[0m     \u001b[39mself\u001b[39m\u001b[39m.\u001b[39mseek(\u001b[39m0\u001b[39m)\n",
      "File \u001b[1;32m~\\AppData\\Roaming\\Python\\Python310\\site-packages\\soundfile.py:1216\u001b[0m, in \u001b[0;36mSoundFile._open\u001b[1;34m(self, file, mode_int, closefd)\u001b[0m\n\u001b[0;32m   1213\u001b[0m \u001b[39mif\u001b[39;00m file_ptr \u001b[39m==\u001b[39m _ffi\u001b[39m.\u001b[39mNULL:\n\u001b[0;32m   1214\u001b[0m     \u001b[39m# get the actual error code\u001b[39;00m\n\u001b[0;32m   1215\u001b[0m     err \u001b[39m=\u001b[39m _snd\u001b[39m.\u001b[39msf_error(file_ptr)\n\u001b[1;32m-> 1216\u001b[0m     \u001b[39mraise\u001b[39;00m LibsndfileError(err, prefix\u001b[39m=\u001b[39m\u001b[39m\"\u001b[39m\u001b[39mError opening \u001b[39m\u001b[39m{0!r}\u001b[39;00m\u001b[39m: \u001b[39m\u001b[39m\"\u001b[39m\u001b[39m.\u001b[39mformat(\u001b[39mself\u001b[39m\u001b[39m.\u001b[39mname))\n\u001b[0;32m   1217\u001b[0m \u001b[39mif\u001b[39;00m mode_int \u001b[39m==\u001b[39m _snd\u001b[39m.\u001b[39mSFM_WRITE:\n\u001b[0;32m   1218\u001b[0m     \u001b[39m# Due to a bug in libsndfile version <= 1.0.25, frames != 0\u001b[39;00m\n\u001b[0;32m   1219\u001b[0m     \u001b[39m# when opening a named pipe in SFM_WRITE mode.\u001b[39;00m\n\u001b[0;32m   1220\u001b[0m     \u001b[39m# See http://github.com/erikd/libsndfile/issues/77.\u001b[39;00m\n\u001b[0;32m   1221\u001b[0m     \u001b[39mself\u001b[39m\u001b[39m.\u001b[39m_info\u001b[39m.\u001b[39mframes \u001b[39m=\u001b[39m \u001b[39m0\u001b[39m\n",
      "\u001b[1;31mLibsndfileError\u001b[0m: Error opening '1-100032-A.ogg': System error."
     ]
    }
   ],
   "source": [
    "data=np.zeros((1274,32,40))\n",
    "output=[]\n",
    "for i in range(0,len(baby_cry)):\n",
    "       r=feature(baby_cry[i])\n",
    "       \n",
    "       #r=list(r)\n",
    "       data[i,:,:]=r\n",
    "       output.append(1) \n",
    "        \n",
    "all=baby_cry+nonbabycry\n",
    "for i in range(len(baby_cry)-1,len(all)-1):\n",
    "       #r=list(r)\n",
    "       r=feature(all[i])\n",
    "       \n",
    "       data[i,:,:]=r\n",
    "       output.append(0)"
   ]
  },
  {
   "cell_type": "code",
   "execution_count": null,
   "metadata": {},
   "outputs": [],
   "source": [
    "def Mfcc(audiofile):\n",
    "    s,r=sf.read(audiofile)\n",
    "    #print(len(s.shape))\n",
    "    #if len(s.shape)==2:\n",
    "     #   s=s[0,:]\n",
    "    #print(len(s.shape))\n",
    "\n",
    "    x=np.array_split(s,64)\n",
    "    #print(x)\n",
    "    logg=np.zeros((64,12))\n",
    "    for i in range(len(x)):\n",
    "        \n",
    "        \n",
    "        m=np.mean(mfcc(x[i],r, numcep=12,nfft=2048),axis=0)\n",
    "        #print(np.shape(m))\n",
    "        xx= m\n",
    "        logg[i,:]=m\n",
    "\n",
    "    return logg"
   ]
  },
  {
   "cell_type": "code",
   "execution_count": null,
   "metadata": {},
   "outputs": [
    {
     "name": "stdout",
     "output_type": "stream",
     "text": [
      "D:/PBL5/Data/301 - Crying baby/1-187207-A.ogg\n",
      "D:/PBL5/Data/301 - Crying baby/1-211527-A.ogg\n",
      "D:/PBL5/Data/301 - Crying baby/1-211527-B.ogg\n",
      "D:/PBL5/Data/301 - Crying baby/1-211527-C.ogg\n",
      "D:/PBL5/Data/301 - Crying baby/1-22694-A.ogg\n",
      "D:/PBL5/Data/301 - Crying baby/1-22694-B.ogg\n",
      "D:/PBL5/Data/301 - Crying baby/1-60997-A.ogg\n",
      "D:/PBL5/Data/301 - Crying baby/1-60997-B.ogg\n",
      "D:/PBL5/Data/301 - Crying baby/2-107351-A.ogg\n",
      "D:/PBL5/Data/301 - Crying baby/2-107351-B.ogg\n",
      "D:/PBL5/Data/301 - Crying baby/2-151079-A.ogg\n",
      "D:/PBL5/Data/301 - Crying baby/2-50665-A.ogg\n",
      "D:/PBL5/Data/301 - Crying baby/2-50666-A.ogg\n",
      "D:/PBL5/Data/301 - Crying baby/2-66637-A.ogg\n",
      "D:/PBL5/Data/301 - Crying baby/2-66637-B.ogg\n",
      "D:/PBL5/Data/301 - Crying baby/2-80482-A.ogg\n",
      "D:/PBL5/Data/301 - Crying baby/3-151080-A.ogg\n",
      "D:/PBL5/Data/301 - Crying baby/3-151081-A.ogg\n",
      "D:/PBL5/Data/301 - Crying baby/3-151081-B.ogg\n",
      "D:/PBL5/Data/301 - Crying baby/3-152007-A.ogg\n",
      "D:/PBL5/Data/301 - Crying baby/3-152007-B.ogg\n",
      "D:/PBL5/Data/301 - Crying baby/3-152007-C.ogg\n",
      "D:/PBL5/Data/301 - Crying baby/3-152007-D.ogg\n",
      "D:/PBL5/Data/301 - Crying baby/3-152007-E.ogg\n",
      "D:/PBL5/Data/301 - Crying baby/4-167077-A.ogg\n",
      "D:/PBL5/Data/301 - Crying baby/4-167077-B.ogg\n",
      "D:/PBL5/Data/301 - Crying baby/4-167077-C.ogg\n",
      "D:/PBL5/Data/301 - Crying baby/4-185575-A.ogg\n",
      "D:/PBL5/Data/301 - Crying baby/4-185575-B.ogg\n",
      "D:/PBL5/Data/301 - Crying baby/4-185575-C.ogg\n",
      "D:/PBL5/Data/301 - Crying baby/4-59579-A.ogg\n",
      "D:/PBL5/Data/301 - Crying baby/4-59579-B.ogg\n",
      "D:/PBL5/Data/301 - Crying baby/5-151085-A.ogg\n",
      "D:/PBL5/Data/301 - Crying baby/5-198411-A.ogg\n",
      "D:/PBL5/Data/301 - Crying baby/5-198411-B.ogg\n",
      "D:/PBL5/Data/301 - Crying baby/5-198411-C.ogg\n",
      "D:/PBL5/Data/301 - Crying baby/5-198411-D.ogg\n",
      "D:/PBL5/Data/301 - Crying baby/5-198411-E.ogg\n",
      "D:/PBL5/Data/301 - Crying baby/5-198411-F.ogg\n",
      "D:/PBL5/Data/301 - Crying baby/5-198411-G.ogg\n",
      "D:/PBL5/Data/301 - Crying baby/Louise_01.m4a_0.wav\n",
      "D:/PBL5/Data/301 - Crying baby/Louise_01.m4a_1.wav\n",
      "D:/PBL5/Data/301 - Crying baby/Louise_01.m4a_10.wav\n",
      "D:/PBL5/Data/301 - Crying baby/Louise_01.m4a_11.wav\n",
      "D:/PBL5/Data/301 - Crying baby/Louise_01.m4a_12.wav\n",
      "D:/PBL5/Data/301 - Crying baby/Louise_01.m4a_13.wav\n",
      "D:/PBL5/Data/301 - Crying baby/Louise_01.m4a_14.wav\n",
      "D:/PBL5/Data/301 - Crying baby/Louise_01.m4a_2.wav\n",
      "D:/PBL5/Data/301 - Crying baby/Louise_01.m4a_3.wav\n",
      "D:/PBL5/Data/301 - Crying baby/Louise_01.m4a_4.wav\n",
      "D:/PBL5/Data/301 - Crying baby/Louise_01.m4a_5.wav\n",
      "D:/PBL5/Data/301 - Crying baby/Louise_01.m4a_6.wav\n",
      "D:/PBL5/Data/301 - Crying baby/Louise_01.m4a_7.wav\n",
      "D:/PBL5/Data/301 - Crying baby/Louise_01.m4a_8.wav\n",
      "D:/PBL5/Data/301 - Crying baby/Louise_01.m4a_9.wav\n",
      "D:/PBL5/Data/301 - Crying baby/margot.m4a_0.wav\n",
      "D:/PBL5/Data/301 - Crying baby/margot.m4a_1.wav\n",
      "D:/PBL5/Data/301 - Crying baby/margot.m4a_10.wav\n",
      "D:/PBL5/Data/301 - Crying baby/margot.m4a_11.wav\n",
      "D:/PBL5/Data/301 - Crying baby/margot.m4a_12.wav\n",
      "D:/PBL5/Data/301 - Crying baby/margot.m4a_13.wav\n",
      "D:/PBL5/Data/301 - Crying baby/margot.m4a_14.wav\n",
      "D:/PBL5/Data/301 - Crying baby/margot.m4a_15.wav\n",
      "D:/PBL5/Data/301 - Crying baby/margot.m4a_16.wav\n",
      "D:/PBL5/Data/301 - Crying baby/margot.m4a_17.wav\n",
      "D:/PBL5/Data/301 - Crying baby/margot.m4a_18.wav\n",
      "D:/PBL5/Data/301 - Crying baby/margot.m4a_19.wav\n",
      "D:/PBL5/Data/301 - Crying baby/margot.m4a_2.wav\n",
      "D:/PBL5/Data/301 - Crying baby/margot.m4a_20.wav\n",
      "D:/PBL5/Data/301 - Crying baby/margot.m4a_21.wav\n",
      "D:/PBL5/Data/301 - Crying baby/margot.m4a_22.wav\n",
      "D:/PBL5/Data/301 - Crying baby/margot.m4a_23.wav\n",
      "D:/PBL5/Data/301 - Crying baby/margot.m4a_24.wav\n",
      "D:/PBL5/Data/301 - Crying baby/margot.m4a_25.wav\n",
      "D:/PBL5/Data/301 - Crying baby/margot.m4a_26.wav\n",
      "D:/PBL5/Data/301 - Crying baby/margot.m4a_3.wav\n",
      "D:/PBL5/Data/301 - Crying baby/margot.m4a_4.wav\n",
      "D:/PBL5/Data/301 - Crying baby/margot.m4a_5.wav\n",
      "D:/PBL5/Data/301 - Crying baby/margot.m4a_6.wav\n",
      "D:/PBL5/Data/301 - Crying baby/margot.m4a_7.wav\n",
      "D:/PBL5/Data/301 - Crying baby/margot.m4a_8.wav\n",
      "D:/PBL5/Data/301 - Crying baby/margot.m4a_9.wav\n",
      "D:/PBL5/Data/301 - Crying baby/V_2017-04-01+08_06_22=0_30.mp3_0.wav\n",
      "D:/PBL5/Data/301 - Crying baby/V_2017-04-01+08_06_22=0_30.mp3_1.wav\n",
      "D:/PBL5/Data/301 - Crying baby/V_2017-04-01+08_06_22=0_30.mp3_10.wav\n",
      "D:/PBL5/Data/301 - Crying baby/V_2017-04-01+08_06_22=0_30.mp3_11.wav\n",
      "D:/PBL5/Data/301 - Crying baby/V_2017-04-01+08_06_22=0_30.mp3_12.wav\n",
      "D:/PBL5/Data/301 - Crying baby/V_2017-04-01+08_06_22=0_30.mp3_13.wav\n",
      "D:/PBL5/Data/301 - Crying baby/V_2017-04-01+08_06_22=0_30.mp3_14.wav\n",
      "D:/PBL5/Data/301 - Crying baby/V_2017-04-01+08_06_22=0_30.mp3_15.wav\n",
      "D:/PBL5/Data/301 - Crying baby/V_2017-04-01+08_06_22=0_30.mp3_16.wav\n",
      "D:/PBL5/Data/301 - Crying baby/V_2017-04-01+08_06_22=0_30.mp3_17.wav\n",
      "D:/PBL5/Data/301 - Crying baby/V_2017-04-01+08_06_22=0_30.mp3_18.wav\n",
      "D:/PBL5/Data/301 - Crying baby/V_2017-04-01+08_06_22=0_30.mp3_19.wav\n",
      "D:/PBL5/Data/301 - Crying baby/V_2017-04-01+08_06_22=0_30.mp3_2.wav\n",
      "D:/PBL5/Data/301 - Crying baby/V_2017-04-01+08_06_22=0_30.mp3_20.wav\n",
      "D:/PBL5/Data/301 - Crying baby/V_2017-04-01+08_06_22=0_30.mp3_21.wav\n",
      "D:/PBL5/Data/301 - Crying baby/V_2017-04-01+08_06_22=0_30.mp3_22.wav\n",
      "D:/PBL5/Data/301 - Crying baby/V_2017-04-01+08_06_22=0_30.mp3_23.wav\n",
      "D:/PBL5/Data/301 - Crying baby/V_2017-04-01+08_06_22=0_30.mp3_24.wav\n",
      "D:/PBL5/Data/301 - Crying baby/V_2017-04-01+08_06_22=0_30.mp3_25.wav\n",
      "D:/PBL5/Data/301 - Crying baby/V_2017-04-01+08_06_22=0_30.mp3_3.wav\n",
      "D:/PBL5/Data/301 - Crying baby/V_2017-04-01+08_06_22=0_30.mp3_4.wav\n",
      "D:/PBL5/Data/301 - Crying baby/V_2017-04-01+08_06_22=0_30.mp3_5.wav\n",
      "D:/PBL5/Data/301 - Crying baby/V_2017-04-01+08_06_22=0_30.mp3_6.wav\n",
      "D:/PBL5/Data/301 - Crying baby/V_2017-04-01+08_06_22=0_30.mp3_7.wav\n",
      "D:/PBL5/Data/301 - Crying baby/V_2017-04-01+08_06_22=0_30.mp3_8.wav\n",
      "D:/PBL5/Data/301 - Crying baby/V_2017-04-01+08_06_22=0_30.mp3_9.wav\n"
     ]
    }
   ],
   "source": [
    "# data=np.zeros((1274,64,12))\n",
    "data=np.zeros((432,64,12))\n",
    "output=[]\n",
    "for i in range(0,len(baby_cry)):\n",
    "       print(baby_cry[i])\n",
    "       r=Mfcc(baby_cry[i])\n",
    "       \n",
    "       #r=list(r)\n",
    "       data[i,:,:]=r\n",
    "       output.append(1) \n",
    "        \n",
    "all=baby_cry+nonbaby_cry\n",
    "for i in range(len(baby_cry)-1,len(all)-1):\n",
    "       #r=list(r)\n",
    "       #print(all[i]) \n",
    "       r=Mfcc(all[i])\n",
    "       \n",
    "       data[i,:,:]=r\n",
    "       output.append(0)  "
   ]
  },
  {
   "cell_type": "code",
   "execution_count": null,
   "metadata": {},
   "outputs": [],
   "source": [
    "input=data"
   ]
  },
  {
   "cell_type": "code",
   "execution_count": null,
   "metadata": {},
   "outputs": [],
   "source": [
    "from sklearn.model_selection import train_test_split\n",
    "X_train, X_temp, y_train, y_temp = train_test_split(input, output, test_size=0.30, random_state=None)\n",
    "X_val, X_test, y_val, y_test = train_test_split(X_temp, y_temp, stratify = y_temp, test_size=0.5, random_state=None)"
   ]
  },
  {
   "cell_type": "code",
   "execution_count": null,
   "metadata": {},
   "outputs": [],
   "source": [
    "from keras.layers import Reshape, Flatten, Dropout, Concatenate, BatchNormalization\n",
    "from keras.models import Sequential,model_from_json\n",
    "from keras.layers import Conv2D,Conv1D,MaxPooling1D,GlobalAveragePooling1D,GlobalMaxPooling1D\n",
    "from keras.layers import MaxPooling2D\n",
    "from keras.layers import Flatten,Dropout\n",
    "from keras import optimizers, callbacks\n",
    "import numpy as np\n",
    "from keras.layers import Dense,Activation\n",
    "from keras.preprocessing import image\n",
    "from keras.preprocessing.image import ImageDataGenerator\n",
    "from keras.utils import img_to_array"
   ]
  },
  {
   "cell_type": "code",
   "execution_count": null,
   "metadata": {},
   "outputs": [],
   "source": [
    "from keras.layers import Reshape, Flatten, Dropout, Concatenate, BatchNormalization\n",
    "\n",
    "model2 = Sequential()\n",
    "model2.add(Conv1D(64, 2, activation='relu', input_shape=(64, 12))) # first convolutional layer\n",
    "model2.add(Conv1D(40,2,padding='valid', activation='relu',strides=1)) # second convolutional layer\n",
    "model2.add(Dropout(0.4))\n",
    "model2.add(GlobalMaxPooling1D())\n",
    "model2.add(Dense(40))\n",
    "model2.add(Dropout(0.4))\n",
    "model2.add(Activation('relu'))\n",
    "model2.add(BatchNormalization(epsilon=0.001,momentum=0.9, weights=None))\n",
    "model2.add(Dense(1))# fully connected layer model predicts 1 or 0\n",
    "model2.add(Activation('sigmoid'))"
   ]
  },
  {
   "cell_type": "code",
   "execution_count": null,
   "metadata": {},
   "outputs": [],
   "source": [
    "from keras.optimizers import Adam\n",
    "model2.compile(loss='binary_crossentropy',optimizer='adam',metrics=['accuracy'])"
   ]
  },
  {
   "cell_type": "code",
   "execution_count": null,
   "metadata": {},
   "outputs": [
    {
     "name": "stdout",
     "output_type": "stream",
     "text": [
      "Model: \"sequential_1\"\n",
      "_________________________________________________________________\n",
      " Layer (type)                Output Shape              Param #   \n",
      "=================================================================\n",
      " conv1d_2 (Conv1D)           (None, 63, 64)            1600      \n",
      "                                                                 \n",
      " conv1d_3 (Conv1D)           (None, 62, 40)            5160      \n",
      "                                                                 \n",
      " dropout_2 (Dropout)         (None, 62, 40)            0         \n",
      "                                                                 \n",
      " global_max_pooling1d_1 (Glo  (None, 40)               0         \n",
      " balMaxPooling1D)                                                \n",
      "                                                                 \n",
      " dense_1 (Dense)             (None, 40)                1640      \n",
      "                                                                 \n",
      " dropout_3 (Dropout)         (None, 40)                0         \n",
      "                                                                 \n",
      " activation_1 (Activation)   (None, 40)                0         \n",
      "                                                                 \n",
      " batch_normalization (BatchN  (None, 40)               160       \n",
      " ormalization)                                                   \n",
      "                                                                 \n",
      " dense_2 (Dense)             (None, 1)                 41        \n",
      "                                                                 \n",
      " activation_2 (Activation)   (None, 1)                 0         \n",
      "                                                                 \n",
      "=================================================================\n",
      "Total params: 8,601\n",
      "Trainable params: 8,521\n",
      "Non-trainable params: 80\n",
      "_________________________________________________________________\n"
     ]
    }
   ],
   "source": [
    "model2.summary()"
   ]
  },
  {
   "cell_type": "code",
   "execution_count": null,
   "metadata": {},
   "outputs": [],
   "source": [
    "# train_x = np.asarray(X_train)\n",
    "# train_y = np.asarray(y_train)\n",
    "# validation_x = np.asarray(X_val)\n",
    "# validation_y = np.asarray(y_val)"
   ]
  },
  {
   "cell_type": "code",
   "execution_count": null,
   "metadata": {},
   "outputs": [
    {
     "name": "stdout",
     "output_type": "stream",
     "text": [
      "Epoch 1/100\n",
      "31/31 - 2s - loss: 0.7076 - accuracy: 0.5960 - val_loss: 0.5647 - val_accuracy: 0.7538 - 2s/epoch - 56ms/step\n",
      "Epoch 2/100\n",
      "31/31 - 0s - loss: 0.4859 - accuracy: 0.7616 - val_loss: 0.4305 - val_accuracy: 0.8923 - 198ms/epoch - 6ms/step\n",
      "Epoch 3/100\n",
      "31/31 - 0s - loss: 0.3777 - accuracy: 0.8576 - val_loss: 0.3423 - val_accuracy: 0.8923 - 180ms/epoch - 6ms/step\n",
      "Epoch 4/100\n",
      "31/31 - 0s - loss: 0.3106 - accuracy: 0.8742 - val_loss: 0.3060 - val_accuracy: 0.9538 - 165ms/epoch - 5ms/step\n",
      "Epoch 5/100\n",
      "31/31 - 0s - loss: 0.2493 - accuracy: 0.9106 - val_loss: 0.2797 - val_accuracy: 0.9692 - 145ms/epoch - 5ms/step\n",
      "Epoch 6/100\n",
      "31/31 - 0s - loss: 0.2189 - accuracy: 0.9503 - val_loss: 0.2380 - val_accuracy: 0.9538 - 127ms/epoch - 4ms/step\n",
      "Epoch 7/100\n",
      "31/31 - 0s - loss: 0.1843 - accuracy: 0.9503 - val_loss: 0.2202 - val_accuracy: 0.9538 - 120ms/epoch - 4ms/step\n",
      "Epoch 8/100\n",
      "31/31 - 0s - loss: 0.1632 - accuracy: 0.9603 - val_loss: 0.2066 - val_accuracy: 0.9538 - 126ms/epoch - 4ms/step\n",
      "Epoch 9/100\n",
      "31/31 - 0s - loss: 0.1325 - accuracy: 0.9636 - val_loss: 0.1898 - val_accuracy: 0.9538 - 118ms/epoch - 4ms/step\n",
      "Epoch 10/100\n",
      "31/31 - 0s - loss: 0.1230 - accuracy: 0.9735 - val_loss: 0.1854 - val_accuracy: 0.9538 - 220ms/epoch - 7ms/step\n",
      "Epoch 11/100\n",
      "31/31 - 0s - loss: 0.1307 - accuracy: 0.9570 - val_loss: 0.1894 - val_accuracy: 0.9538 - 151ms/epoch - 5ms/step\n",
      "Epoch 12/100\n",
      "31/31 - 0s - loss: 0.1443 - accuracy: 0.9636 - val_loss: 0.2034 - val_accuracy: 0.9385 - 163ms/epoch - 5ms/step\n",
      "Epoch 13/100\n",
      "31/31 - 0s - loss: 0.1100 - accuracy: 0.9636 - val_loss: 0.1796 - val_accuracy: 0.9538 - 149ms/epoch - 5ms/step\n",
      "Epoch 14/100\n",
      "31/31 - 0s - loss: 0.1057 - accuracy: 0.9702 - val_loss: 0.1662 - val_accuracy: 0.9538 - 131ms/epoch - 4ms/step\n",
      "Epoch 15/100\n",
      "31/31 - 0s - loss: 0.1087 - accuracy: 0.9768 - val_loss: 0.1505 - val_accuracy: 0.9538 - 135ms/epoch - 4ms/step\n",
      "Epoch 16/100\n",
      "31/31 - 0s - loss: 0.1102 - accuracy: 0.9702 - val_loss: 0.1357 - val_accuracy: 0.9846 - 115ms/epoch - 4ms/step\n",
      "Epoch 17/100\n",
      "31/31 - 0s - loss: 0.1449 - accuracy: 0.9470 - val_loss: 0.1831 - val_accuracy: 0.9385 - 111ms/epoch - 4ms/step\n",
      "Epoch 18/100\n",
      "31/31 - 0s - loss: 0.1454 - accuracy: 0.9470 - val_loss: 0.1581 - val_accuracy: 0.9538 - 114ms/epoch - 4ms/step\n",
      "Epoch 19/100\n",
      "31/31 - 0s - loss: 0.1056 - accuracy: 0.9536 - val_loss: 0.1353 - val_accuracy: 0.9692 - 116ms/epoch - 4ms/step\n",
      "Epoch 20/100\n",
      "31/31 - 0s - loss: 0.1077 - accuracy: 0.9636 - val_loss: 0.1341 - val_accuracy: 0.9538 - 116ms/epoch - 4ms/step\n",
      "Epoch 21/100\n",
      "31/31 - 0s - loss: 0.0952 - accuracy: 0.9801 - val_loss: 0.1341 - val_accuracy: 0.9692 - 112ms/epoch - 4ms/step\n",
      "Epoch 22/100\n",
      "31/31 - 0s - loss: 0.0834 - accuracy: 0.9834 - val_loss: 0.1330 - val_accuracy: 0.9385 - 124ms/epoch - 4ms/step\n",
      "Epoch 23/100\n",
      "31/31 - 0s - loss: 0.0750 - accuracy: 0.9834 - val_loss: 0.1138 - val_accuracy: 1.0000 - 110ms/epoch - 4ms/step\n",
      "Epoch 24/100\n",
      "31/31 - 0s - loss: 0.0734 - accuracy: 0.9868 - val_loss: 0.1220 - val_accuracy: 0.9385 - 122ms/epoch - 4ms/step\n",
      "Epoch 25/100\n",
      "31/31 - 0s - loss: 0.0813 - accuracy: 0.9702 - val_loss: 0.1298 - val_accuracy: 0.9385 - 110ms/epoch - 4ms/step\n",
      "Epoch 26/100\n",
      "31/31 - 0s - loss: 0.0798 - accuracy: 0.9801 - val_loss: 0.1372 - val_accuracy: 0.9385 - 106ms/epoch - 3ms/step\n",
      "Epoch 27/100\n",
      "31/31 - 0s - loss: 0.0767 - accuracy: 0.9834 - val_loss: 0.1157 - val_accuracy: 0.9538 - 107ms/epoch - 3ms/step\n",
      "Epoch 28/100\n",
      "31/31 - 0s - loss: 0.0724 - accuracy: 0.9834 - val_loss: 0.1180 - val_accuracy: 0.9385 - 102ms/epoch - 3ms/step\n",
      "Epoch 29/100\n",
      "31/31 - 0s - loss: 0.0677 - accuracy: 0.9801 - val_loss: 0.1125 - val_accuracy: 0.9692 - 162ms/epoch - 5ms/step\n",
      "Epoch 30/100\n",
      "31/31 - 0s - loss: 0.0497 - accuracy: 0.9901 - val_loss: 0.1100 - val_accuracy: 0.9846 - 119ms/epoch - 4ms/step\n",
      "Epoch 31/100\n",
      "31/31 - 0s - loss: 0.0606 - accuracy: 0.9901 - val_loss: 0.1090 - val_accuracy: 0.9692 - 175ms/epoch - 6ms/step\n",
      "Epoch 32/100\n",
      "31/31 - 0s - loss: 0.0567 - accuracy: 0.9868 - val_loss: 0.1048 - val_accuracy: 0.9692 - 136ms/epoch - 4ms/step\n",
      "Epoch 33/100\n",
      "31/31 - 0s - loss: 0.0527 - accuracy: 0.9934 - val_loss: 0.1092 - val_accuracy: 0.9538 - 139ms/epoch - 4ms/step\n",
      "Epoch 34/100\n",
      "31/31 - 0s - loss: 0.0484 - accuracy: 0.9834 - val_loss: 0.1211 - val_accuracy: 0.9385 - 136ms/epoch - 4ms/step\n",
      "Epoch 35/100\n",
      "31/31 - 0s - loss: 0.0503 - accuracy: 0.9868 - val_loss: 0.0949 - val_accuracy: 0.9692 - 127ms/epoch - 4ms/step\n",
      "Epoch 36/100\n",
      "31/31 - 0s - loss: 0.0493 - accuracy: 0.9934 - val_loss: 0.1053 - val_accuracy: 0.9385 - 122ms/epoch - 4ms/step\n",
      "Epoch 37/100\n",
      "31/31 - 0s - loss: 0.0466 - accuracy: 0.9901 - val_loss: 0.0976 - val_accuracy: 0.9385 - 118ms/epoch - 4ms/step\n",
      "Epoch 38/100\n",
      "31/31 - 0s - loss: 0.0375 - accuracy: 0.9901 - val_loss: 0.0960 - val_accuracy: 0.9385 - 120ms/epoch - 4ms/step\n",
      "Epoch 39/100\n",
      "31/31 - 0s - loss: 0.0354 - accuracy: 0.9934 - val_loss: 0.0937 - val_accuracy: 0.9538 - 118ms/epoch - 4ms/step\n",
      "Epoch 40/100\n",
      "31/31 - 0s - loss: 0.0424 - accuracy: 0.9901 - val_loss: 0.0859 - val_accuracy: 0.9538 - 131ms/epoch - 4ms/step\n",
      "Epoch 41/100\n",
      "31/31 - 0s - loss: 0.0325 - accuracy: 0.9967 - val_loss: 0.0832 - val_accuracy: 0.9538 - 132ms/epoch - 4ms/step\n",
      "Epoch 42/100\n",
      "31/31 - 0s - loss: 0.0332 - accuracy: 0.9901 - val_loss: 0.0814 - val_accuracy: 0.9692 - 156ms/epoch - 5ms/step\n",
      "Epoch 43/100\n",
      "31/31 - 0s - loss: 0.0444 - accuracy: 0.9834 - val_loss: 0.0834 - val_accuracy: 0.9538 - 135ms/epoch - 4ms/step\n",
      "Epoch 44/100\n",
      "31/31 - 0s - loss: 0.0355 - accuracy: 0.9934 - val_loss: 0.0790 - val_accuracy: 0.9538 - 108ms/epoch - 3ms/step\n",
      "Epoch 45/100\n",
      "31/31 - 0s - loss: 0.0517 - accuracy: 0.9834 - val_loss: 0.0756 - val_accuracy: 0.9846 - 114ms/epoch - 4ms/step\n",
      "Epoch 46/100\n",
      "31/31 - 0s - loss: 0.0287 - accuracy: 0.9967 - val_loss: 0.0845 - val_accuracy: 0.9385 - 159ms/epoch - 5ms/step\n",
      "Epoch 47/100\n",
      "31/31 - 0s - loss: 0.0265 - accuracy: 1.0000 - val_loss: 0.0654 - val_accuracy: 1.0000 - 110ms/epoch - 4ms/step\n",
      "Epoch 48/100\n",
      "31/31 - 0s - loss: 0.0352 - accuracy: 0.9967 - val_loss: 0.1059 - val_accuracy: 0.9385 - 109ms/epoch - 4ms/step\n",
      "Epoch 49/100\n",
      "31/31 - 0s - loss: 0.0410 - accuracy: 0.9834 - val_loss: 0.1138 - val_accuracy: 0.9385 - 110ms/epoch - 4ms/step\n",
      "Epoch 50/100\n",
      "31/31 - 0s - loss: 0.0307 - accuracy: 0.9934 - val_loss: 0.0952 - val_accuracy: 0.9385 - 105ms/epoch - 3ms/step\n",
      "Epoch 51/100\n",
      "31/31 - 0s - loss: 0.0281 - accuracy: 1.0000 - val_loss: 0.0781 - val_accuracy: 0.9538 - 113ms/epoch - 4ms/step\n",
      "Epoch 52/100\n",
      "31/31 - 0s - loss: 0.0212 - accuracy: 1.0000 - val_loss: 0.0734 - val_accuracy: 0.9692 - 107ms/epoch - 3ms/step\n",
      "Epoch 53/100\n",
      "31/31 - 0s - loss: 0.0351 - accuracy: 0.9868 - val_loss: 0.0912 - val_accuracy: 0.9538 - 106ms/epoch - 3ms/step\n",
      "Epoch 54/100\n",
      "31/31 - 0s - loss: 0.0225 - accuracy: 0.9967 - val_loss: 0.0760 - val_accuracy: 0.9538 - 102ms/epoch - 3ms/step\n",
      "Epoch 55/100\n",
      "31/31 - 0s - loss: 0.0247 - accuracy: 0.9967 - val_loss: 0.0706 - val_accuracy: 0.9692 - 105ms/epoch - 3ms/step\n",
      "Epoch 56/100\n",
      "31/31 - 0s - loss: 0.0273 - accuracy: 0.9934 - val_loss: 0.0699 - val_accuracy: 0.9692 - 130ms/epoch - 4ms/step\n",
      "Epoch 57/100\n",
      "31/31 - 0s - loss: 0.0895 - accuracy: 0.9702 - val_loss: 0.1127 - val_accuracy: 0.9692 - 103ms/epoch - 3ms/step\n",
      "Epoch 58/100\n",
      "31/31 - 0s - loss: 0.1018 - accuracy: 0.9636 - val_loss: 0.1249 - val_accuracy: 0.9538 - 106ms/epoch - 3ms/step\n",
      "Epoch 59/100\n",
      "31/31 - 0s - loss: 0.0757 - accuracy: 0.9801 - val_loss: 0.0822 - val_accuracy: 0.9846 - 103ms/epoch - 3ms/step\n",
      "Epoch 60/100\n",
      "31/31 - 0s - loss: 0.0529 - accuracy: 0.9868 - val_loss: 0.0974 - val_accuracy: 0.9846 - 105ms/epoch - 3ms/step\n",
      "Epoch 61/100\n",
      "31/31 - 0s - loss: 0.0582 - accuracy: 0.9801 - val_loss: 0.0948 - val_accuracy: 0.9538 - 109ms/epoch - 4ms/step\n",
      "Epoch 62/100\n",
      "31/31 - 0s - loss: 0.0579 - accuracy: 0.9834 - val_loss: 0.0911 - val_accuracy: 0.9846 - 108ms/epoch - 3ms/step\n",
      "Epoch 63/100\n",
      "31/31 - 0s - loss: 0.0350 - accuracy: 0.9934 - val_loss: 0.0907 - val_accuracy: 0.9846 - 104ms/epoch - 3ms/step\n",
      "Epoch 64/100\n",
      "31/31 - 0s - loss: 0.0467 - accuracy: 0.9868 - val_loss: 0.0927 - val_accuracy: 0.9692 - 106ms/epoch - 3ms/step\n",
      "Epoch 65/100\n",
      "31/31 - 0s - loss: 0.0419 - accuracy: 0.9801 - val_loss: 0.0795 - val_accuracy: 0.9846 - 104ms/epoch - 3ms/step\n",
      "Epoch 66/100\n",
      "31/31 - 0s - loss: 0.0477 - accuracy: 0.9834 - val_loss: 0.0604 - val_accuracy: 0.9846 - 106ms/epoch - 3ms/step\n",
      "Epoch 67/100\n",
      "31/31 - 0s - loss: 0.0444 - accuracy: 0.9801 - val_loss: 0.0693 - val_accuracy: 0.9846 - 102ms/epoch - 3ms/step\n",
      "Epoch 68/100\n",
      "31/31 - 0s - loss: 0.0387 - accuracy: 0.9901 - val_loss: 0.0881 - val_accuracy: 0.9538 - 100ms/epoch - 3ms/step\n",
      "Epoch 69/100\n",
      "31/31 - 0s - loss: 0.0250 - accuracy: 0.9967 - val_loss: 0.0591 - val_accuracy: 0.9846 - 99ms/epoch - 3ms/step\n",
      "Epoch 70/100\n",
      "31/31 - 0s - loss: 0.0566 - accuracy: 0.9868 - val_loss: 0.0696 - val_accuracy: 0.9846 - 98ms/epoch - 3ms/step\n",
      "Epoch 71/100\n",
      "31/31 - 0s - loss: 0.0842 - accuracy: 0.9735 - val_loss: 0.0695 - val_accuracy: 0.9846 - 101ms/epoch - 3ms/step\n",
      "Epoch 72/100\n",
      "31/31 - 0s - loss: 0.0465 - accuracy: 0.9934 - val_loss: 0.0582 - val_accuracy: 1.0000 - 116ms/epoch - 4ms/step\n",
      "Epoch 73/100\n",
      "31/31 - 0s - loss: 0.0310 - accuracy: 0.9934 - val_loss: 0.0722 - val_accuracy: 0.9846 - 105ms/epoch - 3ms/step\n",
      "Epoch 74/100\n",
      "31/31 - 0s - loss: 0.0354 - accuracy: 0.9934 - val_loss: 0.0660 - val_accuracy: 0.9692 - 99ms/epoch - 3ms/step\n",
      "Epoch 75/100\n",
      "31/31 - 0s - loss: 0.0475 - accuracy: 0.9801 - val_loss: 0.0915 - val_accuracy: 0.9692 - 98ms/epoch - 3ms/step\n",
      "Epoch 76/100\n",
      "31/31 - 0s - loss: 0.0407 - accuracy: 0.9901 - val_loss: 0.0711 - val_accuracy: 0.9692 - 103ms/epoch - 3ms/step\n",
      "Epoch 77/100\n",
      "31/31 - 0s - loss: 0.0421 - accuracy: 0.9868 - val_loss: 0.0690 - val_accuracy: 0.9692 - 101ms/epoch - 3ms/step\n",
      "Epoch 78/100\n",
      "31/31 - 0s - loss: 0.0335 - accuracy: 0.9901 - val_loss: 0.0590 - val_accuracy: 0.9846 - 105ms/epoch - 3ms/step\n",
      "Epoch 79/100\n",
      "31/31 - 0s - loss: 0.0358 - accuracy: 0.9901 - val_loss: 0.0461 - val_accuracy: 0.9846 - 102ms/epoch - 3ms/step\n",
      "Epoch 80/100\n",
      "31/31 - 0s - loss: 0.0525 - accuracy: 0.9768 - val_loss: 0.0503 - val_accuracy: 1.0000 - 99ms/epoch - 3ms/step\n",
      "Epoch 81/100\n",
      "31/31 - 0s - loss: 0.0411 - accuracy: 0.9901 - val_loss: 0.0520 - val_accuracy: 1.0000 - 100ms/epoch - 3ms/step\n",
      "Epoch 82/100\n",
      "31/31 - 0s - loss: 0.0336 - accuracy: 0.9901 - val_loss: 0.0546 - val_accuracy: 0.9846 - 99ms/epoch - 3ms/step\n",
      "Epoch 83/100\n",
      "31/31 - 0s - loss: 0.0259 - accuracy: 1.0000 - val_loss: 0.0398 - val_accuracy: 1.0000 - 99ms/epoch - 3ms/step\n",
      "Epoch 84/100\n",
      "31/31 - 0s - loss: 0.0336 - accuracy: 0.9934 - val_loss: 0.0509 - val_accuracy: 0.9846 - 98ms/epoch - 3ms/step\n",
      "Epoch 85/100\n",
      "31/31 - 0s - loss: 0.0227 - accuracy: 0.9967 - val_loss: 0.0531 - val_accuracy: 0.9846 - 98ms/epoch - 3ms/step\n",
      "Epoch 86/100\n",
      "31/31 - 0s - loss: 0.0357 - accuracy: 0.9868 - val_loss: 0.0543 - val_accuracy: 0.9846 - 96ms/epoch - 3ms/step\n",
      "Epoch 87/100\n",
      "31/31 - 0s - loss: 0.0374 - accuracy: 0.9834 - val_loss: 0.1029 - val_accuracy: 0.9385 - 99ms/epoch - 3ms/step\n",
      "Epoch 88/100\n",
      "31/31 - 0s - loss: 0.0369 - accuracy: 0.9868 - val_loss: 0.0628 - val_accuracy: 0.9846 - 101ms/epoch - 3ms/step\n",
      "Epoch 89/100\n",
      "31/31 - 0s - loss: 0.0241 - accuracy: 0.9934 - val_loss: 0.0613 - val_accuracy: 0.9846 - 115ms/epoch - 4ms/step\n",
      "Epoch 90/100\n",
      "31/31 - 0s - loss: 0.0246 - accuracy: 0.9934 - val_loss: 0.0751 - val_accuracy: 0.9846 - 100ms/epoch - 3ms/step\n",
      "Epoch 91/100\n",
      "31/31 - 0s - loss: 0.0392 - accuracy: 0.9834 - val_loss: 0.0670 - val_accuracy: 0.9846 - 100ms/epoch - 3ms/step\n",
      "Epoch 92/100\n",
      "31/31 - 0s - loss: 0.0341 - accuracy: 0.9901 - val_loss: 0.0596 - val_accuracy: 0.9846 - 100ms/epoch - 3ms/step\n",
      "Epoch 93/100\n",
      "31/31 - 0s - loss: 0.0282 - accuracy: 0.9934 - val_loss: 0.0565 - val_accuracy: 0.9846 - 108ms/epoch - 3ms/step\n",
      "Epoch 94/100\n",
      "31/31 - 0s - loss: 0.0318 - accuracy: 0.9901 - val_loss: 0.0623 - val_accuracy: 0.9846 - 101ms/epoch - 3ms/step\n",
      "Epoch 95/100\n",
      "31/31 - 0s - loss: 0.0249 - accuracy: 0.9934 - val_loss: 0.0615 - val_accuracy: 0.9846 - 105ms/epoch - 3ms/step\n",
      "Epoch 96/100\n",
      "31/31 - 0s - loss: 0.0198 - accuracy: 1.0000 - val_loss: 0.0701 - val_accuracy: 0.9846 - 110ms/epoch - 4ms/step\n",
      "Epoch 97/100\n",
      "31/31 - 0s - loss: 0.0210 - accuracy: 0.9967 - val_loss: 0.0513 - val_accuracy: 0.9846 - 102ms/epoch - 3ms/step\n",
      "Epoch 98/100\n",
      "31/31 - 0s - loss: 0.0186 - accuracy: 0.9934 - val_loss: 0.0485 - val_accuracy: 0.9846 - 100ms/epoch - 3ms/step\n",
      "Epoch 99/100\n",
      "31/31 - 0s - loss: 0.0170 - accuracy: 0.9967 - val_loss: 0.0492 - val_accuracy: 0.9846 - 117ms/epoch - 4ms/step\n",
      "Epoch 100/100\n",
      "31/31 - 0s - loss: 0.0130 - accuracy: 0.9967 - val_loss: 0.0475 - val_accuracy: 0.9846 - 177ms/epoch - 6ms/step\n"
     ]
    }
   ],
   "source": [
    "# history = model2.fit(X_train, y_train, epochs=100, validation_data=(X_val,y_val),batch_size=10, shuffle=False,verbose=2)\n",
    "history = model2.fit(np.asarray(X_train), np.asarray(y_train), epochs=100, validation_data=(np.asarray(X_val),np.asarray(y_val)),batch_size=10, shuffle=False,verbose=2)\n"
   ]
  },
  {
   "cell_type": "code",
   "execution_count": null,
   "metadata": {},
   "outputs": [
    {
     "name": "stdout",
     "output_type": "stream",
     "text": [
      "3/3 [==============================] - 0s 3ms/step - loss: 0.0475 - accuracy: 0.9846\n"
     ]
    },
    {
     "data": {
      "text/plain": [
       "[0.04753074049949646, 0.9846153855323792]"
      ]
     },
     "execution_count": 27,
     "metadata": {},
     "output_type": "execute_result"
    }
   ],
   "source": [
    "model2.evaluate(np.asarray(X_val),np.asarray(y_val))"
   ]
  },
  {
   "cell_type": "code",
   "execution_count": null,
   "metadata": {},
   "outputs": [
    {
     "name": "stdout",
     "output_type": "stream",
     "text": [
      "3/3 [==============================] - 0s 4ms/step - loss: 0.1081 - accuracy: 0.9231\n"
     ]
    },
    {
     "data": {
      "text/plain": [
       "[0.10814749449491501, 0.9230769276618958]"
      ]
     },
     "execution_count": 29,
     "metadata": {},
     "output_type": "execute_result"
    }
   ],
   "source": [
    "model2.evaluate(np.asarray(X_test),np.asarray(y_test))"
   ]
  },
  {
   "cell_type": "code",
   "execution_count": null,
   "metadata": {},
   "outputs": [
    {
     "name": "stdout",
     "output_type": "stream",
     "text": [
      "10/10 [==============================] - 0s 2ms/step - loss: 0.0109 - accuracy: 1.0000\n"
     ]
    },
    {
     "data": {
      "text/plain": [
       "[0.010936729609966278, 1.0]"
      ]
     },
     "execution_count": 30,
     "metadata": {},
     "output_type": "execute_result"
    }
   ],
   "source": [
    "model2.evaluate(np.asarray(X_train),np.asarray(y_train))"
   ]
  },
  {
   "cell_type": "code",
   "execution_count": null,
   "metadata": {},
   "outputs": [
    {
     "name": "stdout",
     "output_type": "stream",
     "text": [
      "dict_keys(['loss', 'accuracy', 'val_loss', 'val_accuracy'])\n"
     ]
    },
    {
     "data": {
      "image/png": "[encoded data removed]",
      "text/plain": [
       "<Figure size 640x480 with 1 Axes>"
      ]
     },
     "metadata": {},
     "output_type": "display_data"
    },
    {
     "data": {
      "image/png": "[encoded data removed]",
      "text/plain": [
       "<Figure size 640x480 with 1 Axes>"
      ]
     },
     "metadata": {},
     "output_type": "display_data"
    }
   ],
   "source": [
    "print(history.history.keys())\n",
    "#  \"Accuracy\"\n",
    "plt.plot(history.history['accuracy'])\n",
    "plt.plot(history.history['val_accuracy'])\n",
    "plt.title('model accuracy')\n",
    "plt.ylabel('accuracy')\n",
    "plt.xlabel('epoch')\n",
    "plt.legend(['train', 'test'], loc='upper left')\n",
    "plt.show()\n",
    "# \"Loss\"\n",
    "plt.plot(history.history['loss'])\n",
    "plt.plot(history.history['val_loss'])\n",
    "plt.title('model loss')\n",
    "plt.ylabel('loss')\n",
    "plt.xlabel('epoch')\n",
    "plt.legend(['train', 'test'], loc='upper left')\n",
    "plt.show()"
   ]
  },
  {
   "cell_type": "code",
   "execution_count": null,
   "metadata": {},
   "outputs": [],
   "source": []
  },
  {
   "cell_type": "code",
   "execution_count": null,
   "metadata": {},
   "outputs": [],
   "source": []
  },
  {
   "cell_type": "code",
   "execution_count": null,
   "metadata": {},
   "outputs": [],
   "source": [
    "from sklearn.metrics import confusion_matrix, classification_report\n",
    "import seaborn as sns"
   ]
  },
  {
   "cell_type": "code",
   "execution_count": null,
   "metadata": {},
   "outputs": [],
   "source": [
    "def plot_confusion_matrix(test_y, predicted_y):\n",
    "    # Confusion matrix\n",
    "    C = confusion_matrix(test_y, predicted_y)\n",
    "    # Recall matrix\n",
    "    A = (((C.T)/(C.sum(axis=1))).T)\n",
    "    # Precision matrix\n",
    "    B = (C/C.sum(axis=0))\n",
    "    plt.figure(figsize=(20,4))\n",
    "    labels = ['non-babycry(0)','babycry(1)']\n",
    "    cmap=sns.light_palette(\"purple\")\n",
    "    plt.subplot(1,3,1)\n",
    "    sns.heatmap(C, annot=True, cmap=cmap,fmt=\"d\", xticklabels = labels, yticklabels=labels)\n",
    "    plt.xlabel('Predicted Class')\n",
    "    plt.ylabel('Orignal Class')\n",
    "    plt.title('Confusion matrix')\n",
    "    plt.subplot(1,3,2)\n",
    "    sns.heatmap(A, annot=True, cmap=cmap, xticklabels = labels, yticklabels=labels)\n",
    "    plt.xlabel('Predicted Class')\n",
    "    plt.ylabel('Orignal Class')\n",
    "    plt.title('Recall matrix')\n",
    "    plt.subplot(1,3,3)\n",
    "    sns.heatmap(B, annot=True, cmap=cmap, xticklabels = labels, yticklabels=labels)\n",
    "    plt.xlabel('Predicted Class')\n",
    "    plt.ylabel('Orignal Class')\n",
    "    plt.title('Precision matrix')\n",
    "    plt.show()"
   ]
  },
  {
   "cell_type": "code",
   "execution_count": null,
   "metadata": {},
   "outputs": [
    {
     "name": "stdout",
     "output_type": "stream",
     "text": [
      "3/3 [==============================] - 0s 1ms/step\n"
     ]
    }
   ],
   "source": [
    "y = model2.predict(X_test)"
   ]
  },
  {
   "cell_type": "code",
   "execution_count": null,
   "metadata": {},
   "outputs": [
    {
     "data": {
      "image/png": "[encoded data removed]",
      "text/plain": [
       "<Figure size 2000x400 with 6 Axes>"
      ]
     },
     "metadata": {},
     "output_type": "display_data"
    }
   ],
   "source": [
    "plot_confusion_matrix(y_test, y.round())"
   ]
  },
  {
   "cell_type": "code",
   "execution_count": null,
   "metadata": {},
   "outputs": [],
   "source": [
    "with open('my_cnn.json','w') as f:\n",
    "    f.write(model2.to_json())"
   ]
  },
  {
   "cell_type": "code",
   "execution_count": null,
   "metadata": {},
   "outputs": [],
   "source": [
    "model2.save_weights(\"my_cnn.h5\")"
   ]
  }
 ],
 "metadata": {
  "kernelspec": {
   "display_name": "Python 3",
   "language": "python",
   "name": "python3"
  },
  "language_info": {
   "codemirror_mode": {
    "name": "ipython",
    "version": 3
   },
   "file_extension": ".py",
   "mimetype": "text/x-python",
   "name": "python",
   "nbconvert_exporter": "python",
   "pygments_lexer": "ipython3",
   "version": "3.10.10"
  },
  "orig_nbformat": 4
 },
 "nbformat": 4,
 "nbformat_minor": 2
}
